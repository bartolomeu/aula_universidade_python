{
  "nbformat": 4,
  "nbformat_minor": 0,
  "metadata": {
    "colab": {
      "provenance": [],
      "authorship_tag": "ABX9TyMmXBeCydRy0LMlWKYDb993",
      "include_colab_link": true
    },
    "kernelspec": {
      "name": "python3",
      "display_name": "Python 3"
    },
    "language_info": {
      "name": "python"
    }
  },
  "cells": [
    {
      "cell_type": "markdown",
      "metadata": {
        "id": "view-in-github",
        "colab_type": "text"
      },
      "source": [
        "<a href=\"https://colab.research.google.com/github/bartolomeu/aula_universidade_python/blob/main/aula_arvore_binaria.ipynb\" target=\"_parent\"><img src=\"https://colab.research.google.com/assets/colab-badge.svg\" alt=\"Open In Colab\"/></a>"
      ]
    },
    {
      "cell_type": "code",
      "execution_count": null,
      "metadata": {
        "colab": {
          "base_uri": "https://localhost:8080/"
        },
        "id": "_WWkWFkL9m1p",
        "outputId": "cbbe72e9-a4f2-4d3f-d5ef-a33345482568"
      },
      "outputs": [
        {
          "output_type": "stream",
          "name": "stdout",
          "text": [
            "Numero repetido 5\n",
            "Numero repetido 13\n",
            "Root =  5\n",
            " ->L =  3\n",
            " -> ->L =  2\n",
            " -> -> ->L =  1\n",
            " ->R =  6\n",
            " -> ->R =  87\n",
            " -> -> ->L =  12\n",
            " -> -> -> ->R =  13\n",
            " -> -> -> -> ->R =  19\n",
            " -> -> -> -> -> ->L =  18\n",
            " -> -> -> -> -> ->R =  55\n",
            " -> -> -> -> -> -> ->L =  23\n",
            "Root =  13\n",
            " ->L =  5\n",
            " -> ->L =  2\n",
            " -> -> ->L =  1\n",
            " -> ->R =  12\n",
            " -> -> ->L =  6\n",
            " ->R =  23\n",
            " -> ->L =  19\n",
            " -> -> ->L =  18\n",
            " -> ->R =  87\n",
            " -> -> ->L =  55\n"
          ]
        }
      ],
      "source": [
        "import math\n",
        "class Node:\n",
        "    def __init__(self, value):\n",
        "        self.value = value\n",
        "        self.left = None\n",
        "        self.right = None\n",
        "\n",
        "    def __str__(self):\n",
        "        return str(self.value)\n",
        "\n",
        "    def printTree (self, level=0, prefix = 'Root'):\n",
        "        if self.value != None:\n",
        "            print(' ->' * level + prefix + ' = ', self.value)\n",
        "            if self.left != None:\n",
        "              self.left.printTree(level + 1, 'L')\n",
        "            if self.right != None:\n",
        "              self.right.printTree(level + 1, 'R')\n",
        "\n",
        "    def insertUnique(self, number):\n",
        "        if number == self.value:\n",
        "            print('Numero repetido '+str(number))\n",
        "            return\n",
        "        if number < self.value:\n",
        "            if self.left is None:\n",
        "                # print(str(self.value) + ' L =>' +str(number))\n",
        "                self.left = Node(number)\n",
        "            else:\n",
        "                self.left.insertUnique(number)\n",
        "        else:\n",
        "            if self.right is None:\n",
        "                # print(str(self.value) + ' R => '+str(number))\n",
        "                self.right = Node(number)\n",
        "            else:\n",
        "                self.right.insertUnique(number)\n",
        "    def organizeTree(self, values = []):\n",
        "      array = self.toArray()\n",
        "      array.sort()\n",
        "      self.fillTree(array)\n",
        "\n",
        "    def fillTree(self, sortedArray):\n",
        "      length = len(sortedArray)\n",
        "      middle = math.floor( len(sortedArray)/2)\n",
        "      self.value = sortedArray[middle]\n",
        "      self.left = None\n",
        "      self.right = None\n",
        "      if(middle == 0):\n",
        "        return\n",
        "      self.left = Node(7778)\n",
        "      self.left.fillTree(sortedArray[0:middle])\n",
        "      if(middle ==1):\n",
        "        return\n",
        "      self.right = Node(7779)\n",
        "      self.right.fillTree(sortedArray[middle+1:])\n",
        "\n",
        "\n",
        "\n",
        "\n",
        "    def toArray(self, array=[]):\n",
        "      array.append(self.value)\n",
        "      if self.left != None:\n",
        "        self.left.toArray(array)\n",
        "      if self.right != None:\n",
        "        self.right.toArray(array)\n",
        "      return array\n",
        "\n",
        "## cabou a classe\n",
        "\n",
        "numbers = [5,6,87,12,5,13,19,55,23,18,13,3,2,1]\n",
        "\n",
        "tree = Node(numbers[0])\n",
        "\n",
        "for number in numbers[1:]:\n",
        "    tree.insertUnique(number)\n",
        "\n",
        "tree.printTree()\n",
        "tree.organizeTree()\n",
        "tree.printTree()\n"
      ]
    },
    {
      "cell_type": "code",
      "source": [
        "testArr = [1]\n",
        "midd = math.floor(len(testArr)/2)\n",
        "print('midd = '+str(midd))\n",
        "# print(testArr[0:1])\n",
        "print(testArr[0:midd])\n",
        "print(testArr[midd+1:])"
      ],
      "metadata": {
        "colab": {
          "base_uri": "https://localhost:8080/"
        },
        "id": "fzMoNu11pkW5",
        "outputId": "d6fefc93-7451-42e6-bda8-1dea2e169b63"
      },
      "execution_count": null,
      "outputs": [
        {
          "output_type": "stream",
          "name": "stdout",
          "text": [
            "midd = 0\n",
            "[]\n",
            "[]\n"
          ]
        }
      ]
    },
    {
      "cell_type": "code",
      "source": [
        "class TreeNode:\n",
        "    def __init__(self, value):\n",
        "        self.value = value\n",
        "        self.left = None\n",
        "        self.right = None\n",
        "\n",
        "def print_binary_tree(root, level=0, prefix=\"Root: \"):\n",
        "    \"\"\"\n",
        "    Prints a binary tree in a visually understandable way.\n",
        "\n",
        "    Args:\n",
        "        root: The root node of the binary tree.\n",
        "        level: The current level of the node (used for indentation).\n",
        "        prefix: A prefix string to indicate the node's position.\n",
        "    \"\"\"\n",
        "    if root is None:\n",
        "        return\n",
        "\n",
        "    print(\" \" * (level * 4) + prefix + str(root.value))  # Indentation and value\n",
        "\n",
        "    if root.left:\n",
        "        print_binary_tree(root.left, level + 1, \"L--> \")  # Left child\n",
        "\n",
        "    if root.right:\n",
        "        print_binary_tree(root.right, level + 1, \"R--> \")  # Right child\n",
        "\n",
        "# Example usage:\n",
        "# Create a sample binary tree\n",
        "root = TreeNode(1)\n",
        "root.left = TreeNode(2)\n",
        "root.right = TreeNode(3)\n",
        "root.left.left = TreeNode(4)\n",
        "root.left.right = TreeNode(5)\n",
        "root.right.left = TreeNode(6)\n",
        "root.right.right = TreeNode(7)\n",
        "\n",
        "# Print the binary tree\n",
        "# print_binary_tree(root)\n",
        "\n",
        "#Example with more complex tree\n",
        "root2 = TreeNode('A')\n",
        "root2.left = TreeNode('B')\n",
        "root2.right = TreeNode('C')\n",
        "root2.left.left = TreeNode('D')\n",
        "root2.left.right = TreeNode('E')\n",
        "root2.right.right = TreeNode('F')\n",
        "root2.left.left.left = TreeNode('G')\n",
        "\n",
        "# print(\"\\nAnother Tree:\")\n",
        "# print_binary_tree(root2)\n",
        "\n",
        "#Example of empty tree\n",
        "#print(\"\\nEmpty Tree:\")\n",
        "#print_binary_tree(None)"
      ],
      "metadata": {
        "id": "tfFinhj7m2eo"
      },
      "execution_count": null,
      "outputs": []
    }
  ]
}